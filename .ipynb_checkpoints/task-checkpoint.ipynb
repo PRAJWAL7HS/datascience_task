{
 "cells": [
  {
   "cell_type": "code",
   "execution_count": 2,
   "metadata": {},
   "outputs": [
    {
     "name": "stdout",
     "output_type": "stream",
     "text": [
      "              x1            x2  y\n",
      "0    -119.366669  1.150000e+02  1\n",
      "1    -101.108045  9.777716e+01  1\n",
      "2    -130.278658  1.067677e+02  1\n",
      "3    -114.703415  1.011955e+02  1\n",
      "4    -119.366669  1.150000e+02  1\n",
      "...          ...           ... ..\n",
      "2222   98.714112  8.964312e+01  0\n",
      "2223   96.633331  9.100000e+01  0\n",
      "2224   85.673940  1.038393e+02  0\n",
      "2225   78.958862  7.860537e+01  0\n",
      "2226  109.624009  1.000000e+08  0\n",
      "\n",
      "[2227 rows x 3 columns]\n"
     ]
    }
   ],
   "source": [
    "import numpy as np\n",
    "import pandas as pd\n",
    "import matplotlib.pyplot as plt\n",
    "%matplotlib inline\n",
    "\n",
    "# Load the dataset\n",
    "data = pd.read_csv('data.csv')\n",
    "    \n",
    "# Success\n",
    "print(data)"
   ]
  },
  {
   "cell_type": "markdown",
   "metadata": {},
   "source": [
    "# Now we need to find the missing values for each column. In order to do that, we use the isna() function provided by pandas:"
   ]
  },
  {
   "cell_type": "code",
   "execution_count": 3,
   "metadata": {},
   "outputs": [
    {
     "data": {
      "text/plain": [
       "x1    5\n",
       "x2    3\n",
       "y     0\n",
       "dtype: int64"
      ]
     },
     "execution_count": 3,
     "metadata": {},
     "output_type": "execute_result"
    }
   ],
   "source": [
    "#to read missing data\n",
    "data.isna().sum()"
   ]
  },
  {
   "cell_type": "code",
   "execution_count": null,
   "metadata": {},
   "outputs": [],
   "source": []
  },
  {
   "cell_type": "code",
   "execution_count": null,
   "metadata": {},
   "outputs": [],
   "source": []
  }
 ],
 "metadata": {
  "kernelspec": {
   "display_name": "Python 3",
   "language": "python",
   "name": "python3"
  },
  "language_info": {
   "codemirror_mode": {
    "name": "ipython",
    "version": 3
   },
   "file_extension": ".py",
   "mimetype": "text/x-python",
   "name": "python",
   "nbconvert_exporter": "python",
   "pygments_lexer": "ipython3",
   "version": "3.9.2"
  }
 },
 "nbformat": 4,
 "nbformat_minor": 2
}
